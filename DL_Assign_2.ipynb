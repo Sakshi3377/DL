{
  "nbformat": 4,
  "nbformat_minor": 0,
  "metadata": {
    "colab": {
      "provenance": []
    },
    "kernelspec": {
      "name": "python3",
      "display_name": "Python 3"
    },
    "language_info": {
      "name": "python"
    }
  },
  "cells": [
    {
      "cell_type": "code",
      "execution_count": 1,
      "metadata": {
        "id": "piakUekHswis"
      },
      "outputs": [],
      "source": [
        "import tensorflow as tf\n",
        "from keras.models import Sequential\n",
        "from keras.datasets import mnist\n",
        "import matplotlib.pyplot as plt\n",
        "import numpy as np\n",
        "import random\n",
        "import keras"
      ]
    },
    {
      "cell_type": "code",
      "source": [
        "(x_train,y_train),(x_test,y_test)=mnist.load_data()\n",
        "x_train=x_train/255\n",
        "x_test=x_test/255"
      ],
      "metadata": {
        "colab": {
          "base_uri": "https://localhost:8080/"
        },
        "id": "uVyweTAUs903",
        "outputId": "7925f0b8-f232-4072-ca32-46373906abcc"
      },
      "execution_count": 2,
      "outputs": [
        {
          "output_type": "stream",
          "name": "stdout",
          "text": [
            "Downloading data from https://storage.googleapis.com/tensorflow/tf-keras-datasets/mnist.npz\n",
            "11490434/11490434 [==============================] - 0s 0us/step\n"
          ]
        }
      ]
    },
    {
      "cell_type": "code",
      "source": [
        "model=Sequential()\n",
        "model.add(keras.layers.Flatten(input_shape=(28,28)))\n",
        "model.add(keras.layers.Dense(128,activation='relu'))\n",
        "model.add(keras.layers.Dense(10,activation='softmax'))"
      ],
      "metadata": {
        "id": "XySYNTgZs94J"
      },
      "execution_count": 3,
      "outputs": []
    },
    {
      "cell_type": "code",
      "source": [
        "model.compile(optimizer='sgd',loss='sparse_categorical_crossentropy',metrics=[\"accuracy\"])\n",
        "H=model.fit(x_train,y_train,validation_data=(x_test,y_test),epochs=5)"
      ],
      "metadata": {
        "colab": {
          "base_uri": "https://localhost:8080/"
        },
        "id": "loUWMlKMs97S",
        "outputId": "034606ed-a245-48d9-8e38-19071f6120f4"
      },
      "execution_count": 4,
      "outputs": [
        {
          "output_type": "stream",
          "name": "stdout",
          "text": [
            "Epoch 1/5\n",
            "1875/1875 [==============================] - 14s 7ms/step - loss: 0.6500 - accuracy: 0.8384 - val_loss: 0.3599 - val_accuracy: 0.9021\n",
            "Epoch 2/5\n",
            "1875/1875 [==============================] - 10s 6ms/step - loss: 0.3420 - accuracy: 0.9039 - val_loss: 0.2971 - val_accuracy: 0.9157\n",
            "Epoch 3/5\n",
            "1875/1875 [==============================] - 12s 6ms/step - loss: 0.2946 - accuracy: 0.9163 - val_loss: 0.2682 - val_accuracy: 0.9248\n",
            "Epoch 4/5\n",
            "1875/1875 [==============================] - 6s 3ms/step - loss: 0.2646 - accuracy: 0.9252 - val_loss: 0.2445 - val_accuracy: 0.9312\n",
            "Epoch 5/5\n",
            "1875/1875 [==============================] - 6s 3ms/step - loss: 0.2419 - accuracy: 0.9319 - val_loss: 0.2271 - val_accuracy: 0.9360\n"
          ]
        }
      ]
    },
    {
      "cell_type": "code",
      "source": [
        "test_loss,test_acc=model.evaluate(x_test,y_test)\n",
        "print(\"Testing Loss= %.3f\"%test_loss)\n",
        "print(\"Testing Accuracy=%.3f\"%test_acc)"
      ],
      "metadata": {
        "colab": {
          "base_uri": "https://localhost:8080/"
        },
        "id": "THvfj-ces9-R",
        "outputId": "fb8a4419-f0a3-4670-b528-38e1593dc0d3"
      },
      "execution_count": 5,
      "outputs": [
        {
          "output_type": "stream",
          "name": "stdout",
          "text": [
            "313/313 [==============================] - 1s 2ms/step - loss: 0.2271 - accuracy: 0.9360\n",
            "Testing Loss= 0.227\n",
            "Testing Accuracy=0.936\n"
          ]
        }
      ]
    },
    {
      "cell_type": "code",
      "source": [
        "train_loss,train_acc=model.evaluate(x_train,y_train)\n",
        "print(\"Training Loss= %.3f\"%train_loss)\n",
        "print(\"Training Accuracy=%.3f\"%train_acc)"
      ],
      "metadata": {
        "colab": {
          "base_uri": "https://localhost:8080/"
        },
        "id": "wYhb8jdps-BU",
        "outputId": "9224d7f6-9174-41b8-e07a-bb23462a9202"
      },
      "execution_count": 6,
      "outputs": [
        {
          "output_type": "stream",
          "name": "stdout",
          "text": [
            "1875/1875 [==============================] - 3s 2ms/step - loss: 0.2290 - accuracy: 0.9356\n",
            "Training Loss= 0.229\n",
            "Training Accuracy=0.936\n"
          ]
        }
      ]
    },
    {
      "cell_type": "code",
      "source": [
        "n=random.randint(0,9999)\n",
        "plt.imshow(x_test[n])\n",
        "plt.show()\n",
        "prediction=model.predict(x_test)\n",
        "print(\"The handwritten number in the image is %d\"%np.argmax(prediction[n]))"
      ],
      "metadata": {
        "colab": {
          "base_uri": "https://localhost:8080/",
          "height": 465
        },
        "id": "h_NK_E1-s-Eh",
        "outputId": "37671fa3-7f35-4bbe-d271-62fba75f6377"
      },
      "execution_count": 7,
      "outputs": [
        {
          "output_type": "display_data",
          "data": {
            "text/plain": [
              "<Figure size 640x480 with 1 Axes>"
            ],
            "image/png": "[encoded data removed]"
          },
          "metadata": {}
        },
        {
          "output_type": "stream",
          "name": "stdout",
          "text": [
            "313/313 [==============================] - 1s 2ms/step\n",
            "The handwritten number in the image is 9\n"
          ]
        }
      ]
    },
    {
      "cell_type": "code",
      "source": [
        "plt.plot(np.arange(0, 5), H.history[\"loss\"], label=\"train_loss\")\n",
        "plt.plot(np.arange(0, 5), H.history[\"val_loss\"], label=\"val_loss\")\n",
        "plt.plot(np.arange(0, 5), H.history[\"accuracy\"], label=\"train_acc\")\n",
        "plt.plot(np.arange(0, 5), H.history[\"val_accuracy\"], label=\"val_acc\")"
      ],
      "metadata": {
        "colab": {
          "base_uri": "https://localhost:8080/",
          "height": 447
        },
        "id": "lHo3SBZ7s-HX",
        "outputId": "70ed84cd-1a3f-483d-aacc-141c1825c611"
      },
      "execution_count": 8,
      "outputs": [
        {
          "output_type": "execute_result",
          "data": {
            "text/plain": [
              "[<matplotlib.lines.Line2D at 0x7f8518622b30>]"
            ]
          },
          "metadata": {},
          "execution_count": 8
        },
        {
          "output_type": "display_data",
          "data": {
            "text/plain": [
              "<Figure size 640x480 with 1 Axes>"
            ],
            "image/png": "[encoded data removed]"
          },
          "metadata": {}
        }
      ]
    },
    {
      "cell_type": "code",
      "source": [],
      "metadata": {
        "id": "viMO6M2gs-KK"
      },
      "execution_count": 8,
      "outputs": []
    },
    {
      "cell_type": "code",
      "source": [],
      "metadata": {
        "id": "HfJ691Ins-NC"
      },
      "execution_count": 8,
      "outputs": []
    },
    {
      "cell_type": "code",
      "source": [],
      "metadata": {
        "id": "-8hHi_-gs-P6"
      },
      "execution_count": 8,
      "outputs": []
    },
    {
      "cell_type": "code",
      "source": [],
      "metadata": {
        "id": "fQ11l4kYs-Ss"
      },
      "execution_count": 8,
      "outputs": []
    },
    {
      "cell_type": "code",
      "source": [],
      "metadata": {
        "id": "HZpRTvEIs-Wj"
      },
      "execution_count": 8,
      "outputs": []
    },
    {
      "cell_type": "code",
      "source": [],
      "metadata": {
        "id": "Rz7_fKHvs-aA"
      },
      "execution_count": 8,
      "outputs": []
    }
  ]
}